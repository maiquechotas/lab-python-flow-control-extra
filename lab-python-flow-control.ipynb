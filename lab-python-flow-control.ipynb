{
 "cells": [
  {
   "cell_type": "markdown",
   "id": "d3bfc191-8885-42ee-b0a0-bbab867c6f9f",
   "metadata": {
    "tags": []
   },
   "source": [
    "# Lab | Flow Control"
   ]
  },
  {
   "cell_type": "markdown",
   "id": "303cceb0-f898-4c5f-99bd-c04e131e1ded",
   "metadata": {},
   "source": [
    "Objective: Practice how to use programming constructs like if/else statements and loops to control the flow of a program's execution."
   ]
  },
  {
   "cell_type": "markdown",
   "id": "42fd260a-9eb2-4c39-9989-f2c8c70552ec",
   "metadata": {},
   "source": [
    "## Challenge: The Haunted Mansion"
   ]
  },
  {
   "cell_type": "markdown",
   "id": "7086f8f7-ded2-48e5-b966-7ec44fb57ca5",
   "metadata": {},
   "source": [
    "You are a brave adventurer who has decided to explore the Haunted Mansion, a decrepit old building that is rumored to be haunted by ghosts and spirits. Your objective is to find the treasure that is hidden somewhere in the mansion.\n",
    "\n",
    "## Requirements\n",
    "\n",
    "- Your script should have at least two functions: \"run_mansion()\" and \"encounter_ghost()\".\n",
    "- Your script should use if-else statements, while loops, for loops, combined loops, or nested loops to control the flow of execution.\n",
    "- Your script should prompt the user for input to make decisions on which path to take or what actions to perform.\n",
    "- Your script should include random events and obstacles that can either help or hinder the adventurer in their quest.\n",
    "- Your script should have an objective of finding the treasure at the end of the mansion.\n",
    "\n",
    "## Instructions\n",
    "\n",
    "- Begin by creating a list of items that the adventurer can pick up along the way. These items will be used to help the adventurer overcome obstacles and defeat ghosts. Examples of items can be weapons, potions, keys, etc.\n",
    "\n",
    "- Complete the function called \"run_mansion()\" that serves as the main function for the game. Within \"run_mansion()\", prompt the user to choose a path to take at each intersection. Each path should have its unique challenges and obstacles that the adventurer must overcome.\n",
    "\n",
    "- Use loops to check if the adventurer has enough health points to continue the game. If their health points drop to zero, the game is over.\n",
    "\n",
    "- Complete the function called \"encounter_ghost()\" that will be used to handle ghost encounters. The function should use random events to determine the outcome of the encounter, and the adventurer should use their items to help them defeat the ghost.\n",
    "\n",
    "- Use loops to generate random events or items along the way. These events can either help or hinder the adventurer, and the outcome should be based on random chance.\n",
    "\n",
    "- At the end of the mansion, the adventurer will find the treasure, and the game will end.\n",
    "\n"
   ]
  },
  {
   "cell_type": "markdown",
   "id": "8846d61d-cf9d-4ad4-bbb8-1ecb3bb22005",
   "metadata": {},
   "source": [
    "*Introduction to Functions*:\n",
    "\n",
    "    Functions are blocks of code that perform a specific task. They are used to break up complex code into smaller, more manageable parts, which can make your code easier to read and understand. Functions can also be reused multiple times throughout your code, which can save you a lot of time and effort.\n",
    "\n",
    "    Functions are defined using the def keyword, followed by the name of the function and a set of parentheses. Inside the parentheses, you can list any arguments that the function needs in order to perform its task. These arguments are optional, but they can be useful if you need to pass data into the function from outside.\n",
    "\n",
    "    Once you have defined a function, you can call it from anywhere in your code using its name and passing any necessary arguments. When the function is called, the code inside it is executed, and any values that it returns are passed back to the calling code.\n",
    "\n",
    "    In this exercise, we have defined a function called encounter_ghost that simulates a battle between the adventurer and a ghost, and run_mansion. Your task is to complete these functions by using flow control statements such as if, else, while, for loops, and nested loops. Remember to pay attention to the instructions and comments provided in the function to help guide you. Once you have completed the function encounter_ghost, you can call it from the main code to simulate the battle and test your implementation.\n",
    "\n",
    "    Good luck!"
   ]
  },
  {
   "cell_type": "markdown",
   "id": "9e13a33c-38e5-44b3-bd1b-9a642c962c89",
   "metadata": {},
   "source": [
    "To run the game, simply call the run_mansion() function:"
   ]
  },
  {
   "cell_type": "code",
   "execution_count": null,
   "id": "fed87f6a",
   "metadata": {},
   "outputs": [],
   "source": [
    "import random\n",
    "\n",
    "# Function to handle ghost encounters\n",
    "def encounter_ghost(items):\n",
    "    print(\"You encounter a ghost!\")\n",
    "    outcome = random.choice(['win', 'lose'])\n",
    "    if outcome == 'win':\n",
    "        print(\"You have defeated the ghost using your items.\")\n",
    "        return True\n",
    "    else:\n",
    "        print(\"The ghost has defeated you. You lose health points.\")\n",
    "        return False\n",
    "\n",
    "# Main function to run the game\n",
    "def run_mansion():\n",
    "    health_points = 10\n",
    "    items = ['potion', 'sword', 'key']\n",
    "    print(\"Welcome to the Haunted Mansion.\")\n",
    "    \n",
    "    # Loop to keep the game running while the player has health points\n",
    "    while health_points > 0:\n",
    "        choice = input(\"You are at a crossroad. Do you want to go 'right' or 'left'? \")\n",
    "        if choice == 'right':\n",
    "            print(\"You go right and encounter an obstacle.\")\n",
    "            if encounter_ghost(items):\n",
    "                print(\"You advance further into the mansion.\")\n",
    "            else:\n",
    "                health_points -= 2\n",
    "        elif choice == 'left':\n",
    "            print(\"You go left and find an item.\")\n",
    "            found_item = random.choice(['shield', 'potion'])\n",
    "            items.append(found_item)\n",
    "            print(f\"You have found a {found_item}.\")\n",
    "        else:\n",
    "            print(\"Invalid option. You lose time and health points.\")\n",
    "            health_points -= 1\n",
    "        \n",
    "        # Check if the player has lost all health points\n",
    "        if health_points <= 0:\n",
    "            print(\"You have lost all your health points! Game over.\")\n",
    "            break\n",
    "        \n",
    "        # Check if the player has found the treasure\n",
    "        if 'treasure' in items:\n",
    "            print(\"You have found the treasure! Congratulations, you win.\")\n",
    "            break\n",
    "    \n",
    "    print(\"Thank you for playing the Haunted Mansion.\")\n",
    "\n",
    "# Run the game\n",
    "run_mansion()\n"
   ]
  },
  {
   "cell_type": "markdown",
   "id": "88212f63-3bdb-479f-bf6c-4ecd0685d39a",
   "metadata": {},
   "source": [
    "This should print the game's narrative and prompt the user to make choices and fight ghosts. The game ends when the adventurer finds the key or loses all their health points. "
   ]
  },
  {
   "cell_type": "code",
   "execution_count": 2,
   "id": "4364a96b",
   "metadata": {},
   "outputs": [
    {
     "name": "stdout",
     "output_type": "stream",
     "text": [
      "Welcome to the Haunted Mansion. Your goal is to find the treasure hidden inside.\n",
      "Be careful of the ghosts that haunt the corridors!\n",
      "\n",
      "You enter the Courtyard.\n",
      "You found a healing potion!\n"
     ]
    },
    {
     "name": "stdout",
     "output_type": "stream",
     "text": [
      "You now have ['healing potion'].\n",
      "\n",
      "You enter the Library.\n",
      "You found a magic book!\n",
      "You now have ['healing potion', 'magic book'].\n",
      "\n",
      "You have encountered a ghost!\n",
      "You don't have the right item to defeat the ghost. The ghost attacks you!\n",
      "You lost 10 health points. Your current health is 90.\n",
      "\n",
      "\n",
      "You enter the Armory.\n",
      "You found a magic sword!\n",
      "You now have ['healing potion', 'magic book', 'magic sword'].\n",
      "\n",
      "You enter the Dining Hall.\n",
      "\n",
      "You have encountered a ghost!\n",
      "You use your magic sword to defeat the ghost!\n",
      "\n",
      "You enter the Treasure Room.\n",
      "You found the Treasure Room!\n",
      "Using the magic sword, you unlock the treasure chest and claim the treasure!\n",
      "Congratulations, you have won the game!\n"
     ]
    }
   ],
   "source": [
    "import random\n",
    "\n",
    "# List of items the player can collect\n",
    "items = []\n",
    "\n",
    "# Adventurer's starting health\n",
    "health = 100\n",
    "\n",
    "# Function to handle ghost encounters\n",
    "def encounter_ghost():\n",
    "    global health\n",
    "    print(\"\\nYou have encountered a ghost!\")\n",
    "    if \"magic sword\" in items:\n",
    "        print(\"You use your magic sword to defeat the ghost!\")\n",
    "        return True  # Ghost defeated\n",
    "    else:\n",
    "        print(\"You don't have the right item to defeat the ghost. The ghost attacks you!\")\n",
    "        damage = random.randint(10, 30)\n",
    "        health -= damage\n",
    "        print(f\"You lost {damage} health points. Your current health is {health}.\\n\")\n",
    "        if health <= 0:\n",
    "            print(\"The ghost has drained all your health. You couldn't survive the haunted mansion.\")\n",
    "            return False  # Game over\n",
    "        return True  # Player survives but takes damage\n",
    "\n",
    "# Function to explore the mansion\n",
    "def run_mansion():\n",
    "    global health\n",
    "    print(\"Welcome to the Haunted Mansion. Your goal is to find the treasure hidden inside.\")\n",
    "    print(\"Be careful of the ghosts that haunt the corridors!\")\n",
    "\n",
    "    rooms = [\n",
    "        {\"name\": \"Library\", \"item\": \"magic book\", \"has_ghost\": True},\n",
    "        {\"name\": \"Dining Hall\", \"item\": None, \"has_ghost\": True},\n",
    "        {\"name\": \"Armory\", \"item\": \"magic sword\", \"has_ghost\": False},\n",
    "        {\"name\": \"Courtyard\", \"item\": \"healing potion\", \"has_ghost\": False},\n",
    "        {\"name\": \"Treasure Room\", \"item\": None, \"has_ghost\": False}\n",
    "    ]\n",
    "\n",
    "    random.shuffle(rooms)  # Randomize the rooms' order\n",
    "\n",
    "    for room in rooms:\n",
    "        print(f\"\\nYou enter the {room['name']}.\")\n",
    "        \n",
    "        # Check for items in the room\n",
    "        if room[\"item\"] and room[\"item\"] not in items:\n",
    "            print(f\"You found a {room['item']}!\")\n",
    "            pick_item = input(f\"Do you want to pick up the {room['item']}? (yes/no): \").lower()\n",
    "            if pick_item == \"yes\":\n",
    "                items.append(room[\"item\"])\n",
    "                print(f\"You now have {items}.\")\n",
    "        \n",
    "        # Ghost encounter\n",
    "        if room[\"has_ghost\"]:\n",
    "            ghost_survived = encounter_ghost()\n",
    "            if not ghost_survived:\n",
    "                print(\"Game over!\")\n",
    "                return\n",
    "        \n",
    "        # Check for treasure in the Treasure Room\n",
    "        if room[\"name\"] == \"Treasure Room\":\n",
    "            print(\"You found the Treasure Room!\")\n",
    "            if \"magic sword\" in items:\n",
    "                print(\"Using the magic sword, you unlock the treasure chest and claim the treasure!\")\n",
    "                print(\"Congratulations, you have won the game!\")\n",
    "            else:\n",
    "                print(\"You found the treasure chest but don't have the right item to unlock it.\")\n",
    "            return\n",
    "\n",
    "        # Check health after each room\n",
    "        if health <= 0:\n",
    "            print(\"You don't have enough health to continue.\")\n",
    "            break\n",
    "        else:\n",
    "            continue_exploring = input(\"Do you want to continue exploring? (yes/no): \").lower()\n",
    "            if continue_exploring == \"no\":\n",
    "                print(\"You decided to leave the mansion.\")\n",
    "                break\n",
    "\n",
    "# Run the mansion adventure\n",
    "run_mansion()\n"
   ]
  }
 ],
 "metadata": {
  "kernelspec": {
   "display_name": "Python 3",
   "language": "python",
   "name": "python3"
  },
  "language_info": {
   "codemirror_mode": {
    "name": "ipython",
    "version": 3
   },
   "file_extension": ".py",
   "mimetype": "text/x-python",
   "name": "python",
   "nbconvert_exporter": "python",
   "pygments_lexer": "ipython3",
   "version": "3.12.6"
  }
 },
 "nbformat": 4,
 "nbformat_minor": 5
}
